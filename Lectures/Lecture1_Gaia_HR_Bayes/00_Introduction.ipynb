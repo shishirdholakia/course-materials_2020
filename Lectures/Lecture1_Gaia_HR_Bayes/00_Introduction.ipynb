{
 "cells": [
  {
   "cell_type": "code",
   "execution_count": 42,
   "metadata": {},
   "outputs": [
    {
     "data": {
      "text/html": [
       "<style>\n",
       "\n",
       ".rendered_html\n",
       "{\n",
       "  color: #2C5494;\n",
       "  font-family: Ubuntu;\n",
       "  font-size: 140%;\n",
       "  line-height: 1.1;\n",
       "  margin: 0.5em 0;\n",
       "  }\n",
       "\n",
       ".talk_title\n",
       "{\n",
       "  color: #498AF3;\n",
       "  font-size: 250%;\n",
       "  font-weight:bold;\n",
       "  line-height: 1.2; \n",
       "  margin: 10px 50px 10px;\n",
       "  }\n",
       "\n",
       ".subtitle\n",
       "{\n",
       "  color: #386BBC;\n",
       "  font-size: 180%;\n",
       "  font-weight:bold;\n",
       "  line-height: 1.2; \n",
       "  margin: 20px 50px 20px;\n",
       "  }\n",
       "\n",
       ".slide-header, p.slide-header\n",
       "{\n",
       "  color: #498AF3;\n",
       "  font-size: 200%;\n",
       "  font-weight:bold;\n",
       "  margin: 0px 20px 10px;\n",
       "  page-break-before: always;\n",
       "  text-align: center;\n",
       "  }\n",
       "\n",
       ".rendered_html h1\n",
       "{\n",
       "  color: #498AF3;\n",
       "  line-height: 1.2; \n",
       "  margin: 0.15em 0em 0.5em;\n",
       "  page-break-before: always;\n",
       "  text-align: center;\n",
       "  }\n",
       "\n",
       "\n",
       ".rendered_html h2\n",
       "{ \n",
       "  color: #386BBC;\n",
       "  line-height: 1.2;\n",
       "  margin: 1.1em 0em 0.5em;\n",
       "  }\n",
       "\n",
       ".rendered_html h3\n",
       "{ \n",
       "  font-size: 100%;\n",
       "  line-height: 1.2;\n",
       "  margin: 1.1em 0em 0.5em;\n",
       "  }\n",
       "\n",
       ".rendered_html li\n",
       "{\n",
       "  line-height: 1.8;\n",
       "  }\n",
       "\n",
       ".input_prompt, .CodeMirror-lines, .output_area\n",
       "{\n",
       "  font-family: Consolas;\n",
       "  font-size: 120%;\n",
       "  }\n",
       "\n",
       ".gap-above\n",
       "{\n",
       "  padding-top: 200px;\n",
       "  }\n",
       "\n",
       ".gap01\n",
       "{\n",
       "  padding-top: 10px;\n",
       "  }\n",
       "\n",
       ".gap05\n",
       "{\n",
       "  padding-top: 50px;\n",
       "  }\n",
       "\n",
       ".gap1\n",
       "{\n",
       "  padding-top: 100px;\n",
       "  }\n",
       "\n",
       ".gap2\n",
       "{\n",
       "  padding-top: 200px;\n",
       "  }\n",
       "\n",
       ".gap3\n",
       "{\n",
       "  padding-top: 300px;\n",
       "  }\n",
       "\n",
       ".emph\n",
       "{\n",
       "  color: #386BBC;\n",
       "  }\n",
       "\n",
       ".warn\n",
       "{\n",
       "  color: red;\n",
       "  }\n",
       "\n",
       ".center\n",
       "{\n",
       "  text-align: center;\n",
       "  }\n",
       "\n",
       ".nb_link\n",
       "{\n",
       "    padding-bottom: 0.5em;\n",
       "}\n",
       "\n",
       "</style>"
      ],
      "text/plain": [
       "<IPython.core.display.HTML object>"
      ]
     },
     "metadata": {},
     "output_type": "display_data"
    }
   ],
   "source": [
    "%run ../talktools.py"
   ]
  },
  {
   "cell_type": "markdown",
   "metadata": {},
   "source": [
    "# Meeting/Lecture 2 - Feb 3, 2020\n",
    "\n",
    "## Agenda for today\n",
    "\n",
    "* Introduction (this notebook, *00_Introduction*)\n",
    "  \n",
    "   * Organize into groups (we'll return to this later)\n",
    "   \n",
    "   \n",
    "* Class Logistics \n",
    "   * Checkpoints worth 10% of grade for each lab\n",
    "   * We'll drop your 2 lowest checkpoint scores\n",
    "   * Kareem away the next two weeks -- no office hours, but Piazza\n",
    "   * Dan's office hours on 2/4 (tomorrow): 4:15-5pm in 355 Campbell\n",
    "\n",
    "\n",
    "* Lab Schedule:\n",
    "   * Lab 0 (Clusters) -- Assigned: Monday 1/20, Due: Friday 2/7 (4pm)\n",
    "   * Lab 1 (Variable Stars & Dust) -- Assigned: Monday 2/3, Due: Tuesday 3/3 (4pm)\n",
    "   * Lab 2 (Stellar Rotation) -- Assigned: Monday 3/2, Due Tuesday 3/17 (4pm)\n",
    "   * Lab 3 (Stellar Spectra) -- Assigned: Monday 3/16, Due Tuesday 4/14 (4pm)\n",
    "   * Lab 4 (Hubble's Constant) -- Assigned: Monday 4/13, Due Tuesday 4/28 (4pm)\n",
    " \n",
    " \n",
    "* Intro to Gaia (*01_Gaia*)\n",
    "\n",
    "\n",
    "* Intro to HR Diagrams (*02_HR*)\n",
    "\n",
    "\n",
    "* Lab \\#0 progress discussion\n",
    "\n",
    "   * Report out by group\n",
    "\n",
    "\n",
    "* A little break \n",
    "\n",
    "\n",
    "* Intro to Bayes (*03_Bayes_Intro*)\n",
    "\n",
    "\n",
    "* Intro to Markov chain Monte Carlo (MCMC; *04_MCMC_Intro*)"
   ]
  },
  {
   "cell_type": "markdown",
   "metadata": {},
   "source": [
    "## Group Organization\n",
    "\n",
    "* Let's get into groups...randomly, but deterministically..."
   ]
  },
  {
   "cell_type": "code",
   "execution_count": 13,
   "metadata": {},
   "outputs": [],
   "source": [
    "students = [\"Ethan\", \"Suchi\", \"Julie\", \"Michael\", \"Pancham\",\n",
    "            \"Elias\", \"TJ\", \"Eric\", \"Ashley\", \"Mingwei\", \"Zack\",\n",
    "            \"Tiffany\", \"Maude\", \"Nick\", \"James\", \"Ahmed\", \"Vaibhav\",\n",
    "            \"Mark\", \"Abeer\", \"Nicholas\", \"Alicia\", \"Antonio\", \n",
    "            \"Erandi\", \"Greg\", \"Jessie\", \"Andrew C\", \"Evelyn\", \"Mel\",\n",
    "            \"Sergiy\", \"Shishir\", \"Dhruv\", \"Jamie\", \"Danny\", \n",
    "            \"Yukei\", \"Andrew\"]"
   ]
  },
  {
   "cell_type": "code",
   "execution_count": 16,
   "metadata": {},
   "outputs": [
    {
     "name": "stdout",
     "output_type": "stream",
     "text": [
      "Today we have 35 students.\n",
      "There are no name conflicts: True\n"
     ]
    }
   ],
   "source": [
    "print(f\"Today we have {len(students)} students.\")\n",
    "print(f\"There are no name conflicts: {len(students) == len(set(students))}\")"
   ]
  },
  {
   "cell_type": "markdown",
   "metadata": {},
   "source": [
    "If you dont know about f-strings, today is your lucky day. They were introduced in Python 3.6 and they rock!\n",
    "\n",
    "Some links for you:\n",
    "    - https://docs.python.org/3/whatsnew/3.6.html#whatsnew36-pep498\n",
    "    - https://docs.python.org/3/reference/lexical_analysis.html#f-strings"
   ]
  },
  {
   "cell_type": "code",
   "execution_count": 19,
   "metadata": {},
   "outputs": [],
   "source": [
    "preferred_size_of_group = 5\n",
    "smallest_group_size = 3"
   ]
  },
  {
   "cell_type": "code",
   "execution_count": 20,
   "metadata": {},
   "outputs": [
    {
     "name": "stdout",
     "output_type": "stream",
     "text": [
      "With a preferred group size of 5 the smallest group would be 0\n",
      "That is Unacceptable!\n"
     ]
    }
   ],
   "source": [
    "print(f\"With a preferred group size of {preferred_size_of_group} the smallest group would be {len(students) % preferred_size_of_group}\")\n",
    "print(f\"That is {'fine.' if len(students) % preferred_size_of_group >= smallest_group_size else 'Unacceptable!'}\")"
   ]
  },
  {
   "cell_type": "code",
   "execution_count": 22,
   "metadata": {},
   "outputs": [
    {
     "name": "stdout",
     "output_type": "stream",
     "text": [
      "Number of groups will be 7.\n"
     ]
    }
   ],
   "source": [
    "import numpy as np\n",
    "import pandas as pd \n",
    "import scipy as sp\n",
    "\n",
    "n_groups = int(np.ceil(len(students) / preferred_size_of_group))\n",
    "print(f\"Number of groups will be {n_groups}.\")"
   ]
  },
  {
   "cell_type": "markdown",
   "metadata": {},
   "source": [
    "When using randomness, it's almost always a good idea to be able to reproduce the\n",
    "results. Pseudo-random number generators are \"seeded\" with a number and then yield \n",
    "seemingly random numbers after that. But those numbers are deterministic given the seed\n",
    "and the calling sequence of the generator.\n",
    "\n",
    "See https://www.numpy.org/devdocs/reference/generated/numpy.random.RandomState.html"
   ]
  },
  {
   "cell_type": "code",
   "execution_count": 28,
   "metadata": {},
   "outputs": [
    {
     "data": {
      "text/plain": [
       "72"
      ]
     },
     "execution_count": 28,
     "metadata": {},
     "output_type": "execute_result"
    }
   ],
   "source": [
    "np.random.randint(10, 100)"
   ]
  },
  {
   "cell_type": "code",
   "execution_count": 38,
   "metadata": {},
   "outputs": [],
   "source": [
    "class_seed = 7 # let's set this together\n",
    "rnd = np.random.RandomState(class_seed)"
   ]
  },
  {
   "cell_type": "code",
   "execution_count": 39,
   "metadata": {},
   "outputs": [
    {
     "data": {
      "text/plain": [
       "['Julie',\n",
       " 'Abeer',\n",
       " 'Suchi',\n",
       " 'Mingwei',\n",
       " 'Nick',\n",
       " 'Antonio',\n",
       " 'Ahmed',\n",
       " 'Mel',\n",
       " 'Elias',\n",
       " 'Danny',\n",
       " 'Jamie',\n",
       " 'Erandi',\n",
       " 'Mark',\n",
       " 'Tiffany',\n",
       " 'Ethan',\n",
       " 'Maude',\n",
       " 'Alicia',\n",
       " 'Vaibhav',\n",
       " 'Andrew',\n",
       " 'TJ',\n",
       " 'Shishir',\n",
       " 'Jessie',\n",
       " 'Zack',\n",
       " 'Evelyn',\n",
       " 'Ashley',\n",
       " 'Dhruv',\n",
       " 'James',\n",
       " 'Yukei',\n",
       " 'Sergiy',\n",
       " 'Eric',\n",
       " 'Greg',\n",
       " 'Nicholas',\n",
       " 'Michael',\n",
       " 'Andrew C',\n",
       " 'Pancham']"
      ]
     },
     "execution_count": 39,
     "metadata": {},
     "output_type": "execute_result"
    }
   ],
   "source": [
    "import copy\n",
    "\n",
    "shuffled_students = copy.copy(students)\n",
    "rnd.shuffle(shuffled_students)\n",
    "shuffled_students"
   ]
  },
  {
   "cell_type": "markdown",
   "metadata": {},
   "source": [
    "Now make the groups..."
   ]
  },
  {
   "cell_type": "code",
   "execution_count": 40,
   "metadata": {},
   "outputs": [
    {
     "name": "stdout",
     "output_type": "stream",
     "text": [
      "Group 0: Julie, Abeer, Suchi, Mingwei, Nick\n",
      "Group 1: Antonio, Ahmed, Mel, Elias, Danny\n",
      "Group 2: Jamie, Erandi, Mark, Tiffany, Ethan\n",
      "Group 3: Maude, Alicia, Vaibhav, Andrew, TJ\n",
      "Group 4: Shishir, Jessie, Zack, Evelyn, Ashley\n",
      "Group 5: Dhruv, James, Yukei, Sergiy, Eric\n",
      "Group 6: Greg, Nicholas, Michael, Andrew C, Pancham\n"
     ]
    }
   ],
   "source": [
    "for group_num, members in enumerate(np.array_split(shuffled_students,  n_groups)):\n",
    "    print(f\"Group {group_num}: {', '.join(list(members))}\")"
   ]
  },
  {
   "cell_type": "markdown",
   "metadata": {},
   "source": [
    "## Lab \\#0 progress discussion"
   ]
  },
  {
   "cell_type": "code",
   "execution_count": null,
   "metadata": {},
   "outputs": [],
   "source": []
  }
 ],
 "metadata": {
  "kernelspec": {
   "display_name": "Python 3",
   "language": "python",
   "name": "python3"
  },
  "language_info": {
   "codemirror_mode": {
    "name": "ipython",
    "version": 3
   },
   "file_extension": ".py",
   "mimetype": "text/x-python",
   "name": "python",
   "nbconvert_exporter": "python",
   "pygments_lexer": "ipython3",
   "version": "3.7.3"
  }
 },
 "nbformat": 4,
 "nbformat_minor": 2
}
