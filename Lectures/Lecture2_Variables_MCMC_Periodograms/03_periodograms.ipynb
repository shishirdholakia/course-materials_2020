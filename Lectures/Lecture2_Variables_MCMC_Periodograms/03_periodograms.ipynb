{
 "cells": [
  {
   "cell_type": "code",
   "execution_count": 20,
   "metadata": {},
   "outputs": [
    {
     "data": {
      "text/html": [
       "<style>\n",
       "\n",
       ".rendered_html\n",
       "{\n",
       "  color: #2C5494;\n",
       "  font-family: Ubuntu;\n",
       "  font-size: 140%;\n",
       "  line-height: 1.1;\n",
       "  margin: 0.5em 0;\n",
       "  }\n",
       "\n",
       ".talk_title\n",
       "{\n",
       "  color: #498AF3;\n",
       "  font-size: 250%;\n",
       "  font-weight:bold;\n",
       "  line-height: 1.2; \n",
       "  margin: 10px 50px 10px;\n",
       "  }\n",
       "\n",
       ".subtitle\n",
       "{\n",
       "  color: #386BBC;\n",
       "  font-size: 180%;\n",
       "  font-weight:bold;\n",
       "  line-height: 1.2; \n",
       "  margin: 20px 50px 20px;\n",
       "  }\n",
       "\n",
       ".slide-header, p.slide-header\n",
       "{\n",
       "  color: #498AF3;\n",
       "  font-size: 200%;\n",
       "  font-weight:bold;\n",
       "  margin: 0px 20px 10px;\n",
       "  page-break-before: always;\n",
       "  text-align: center;\n",
       "  }\n",
       "\n",
       ".rendered_html h1\n",
       "{\n",
       "  color: #498AF3;\n",
       "  line-height: 1.2; \n",
       "  margin: 0.15em 0em 0.5em;\n",
       "  page-break-before: always;\n",
       "  text-align: center;\n",
       "  }\n",
       "\n",
       "\n",
       ".rendered_html h2\n",
       "{ \n",
       "  color: #386BBC;\n",
       "  line-height: 1.2;\n",
       "  margin: 1.1em 0em 0.5em;\n",
       "  }\n",
       "\n",
       ".rendered_html h3\n",
       "{ \n",
       "  font-size: 100%;\n",
       "  line-height: 1.2;\n",
       "  margin: 1.1em 0em 0.5em;\n",
       "  }\n",
       "\n",
       ".rendered_html li\n",
       "{\n",
       "  line-height: 1.8;\n",
       "  }\n",
       "\n",
       ".input_prompt, .CodeMirror-lines, .output_area\n",
       "{\n",
       "  font-family: Consolas;\n",
       "  font-size: 120%;\n",
       "  }\n",
       "\n",
       ".gap-above\n",
       "{\n",
       "  padding-top: 200px;\n",
       "  }\n",
       "\n",
       ".gap01\n",
       "{\n",
       "  padding-top: 10px;\n",
       "  }\n",
       "\n",
       ".gap05\n",
       "{\n",
       "  padding-top: 50px;\n",
       "  }\n",
       "\n",
       ".gap1\n",
       "{\n",
       "  padding-top: 100px;\n",
       "  }\n",
       "\n",
       ".gap2\n",
       "{\n",
       "  padding-top: 200px;\n",
       "  }\n",
       "\n",
       ".gap3\n",
       "{\n",
       "  padding-top: 300px;\n",
       "  }\n",
       "\n",
       ".emph\n",
       "{\n",
       "  color: #386BBC;\n",
       "  }\n",
       "\n",
       ".warn\n",
       "{\n",
       "  color: red;\n",
       "  }\n",
       "\n",
       ".center\n",
       "{\n",
       "  text-align: center;\n",
       "  }\n",
       "\n",
       ".nb_link\n",
       "{\n",
       "    padding-bottom: 0.5em;\n",
       "}\n",
       "\n",
       "</style>"
      ],
      "text/plain": [
       "<IPython.core.display.HTML object>"
      ]
     },
     "metadata": {},
     "output_type": "display_data"
    },
    {
     "data": {
      "text/plain": [
       "<Figure size 432x288 with 0 Axes>"
      ]
     },
     "metadata": {},
     "output_type": "display_data"
    }
   ],
   "source": [
    "%run ../talktools.py"
   ]
  },
  {
   "cell_type": "markdown",
   "metadata": {},
   "source": [
    "# Periodograms\n",
    "\n",
    "Astro 128/256 (UC Berkeley, 2019-2020)\n"
   ]
  },
  {
   "cell_type": "markdown",
   "metadata": {},
   "source": [
    "## Some Motivation \n",
    "\n",
    "In Lab \\#0, you worked with *metadata* &mdash; photometric Gaia observations, parallaxes  and proper motions derived from repeated observations of the source over time, etc..  In Lab \\#1, you'll be working with *time series* flux data directly.  Photometric time series observations are often the central vector to our understanding of astrophysical sources.\n",
    "\n",
    "Some examples of *aperiodic* science with time series data:\n",
    " \n",
    "<ul>\n",
    "    <li><b>supernovae for cosmology</b>: the different evolving shapes and colors of supernovae light curves reveal their physical classifications. This, in turn, can be used to target Type Ia supernovae for spectroscopic followup (to aid with precision cosmology measurements).\n",
    " <center>\n",
    " <figure>\n",
    "  <img src=\"data/sne.jpg\" width=30%>\n",
    "  <figcaption>*Schematic supernovae light curves (Filippenko 97).*</figcaption>\n",
    "</figure>\n",
    "        </center>\n",
    "   </li>\n",
    "    <li><b>quasar selection</b>: the optical light of quasars vary somewhat like a *damped random walk.* Identifying point sources in optical catalogs that vary in such a way is a strong indicator of stochastic processes so generated in accretion disks. Finding QSOs for spectroscopic observations is important for baryon acoustic oscillations (BAO). </li>\n",
    "</ul>"
   ]
  },
  {
   "cell_type": "markdown",
   "metadata": {},
   "source": [
    "Some examples of *periodic* science with time series data:\n",
    "\n",
    "<ul>\n",
    "   <li><b>exoplanets</b>: the identification of exoplanet transits in front of their host stars is cottage industry, the gateway to discovery and studying exoplanets both individually and demographically. In low signal-to-noise regimes, we need to see many consistently-periodic transit cycles to gain confidence in the exoplanet detection.\n",
    "    <center>\n",
    " <figure>\n",
    "  <img src=\"data/kepler.png\" width=80%>\n",
    "  <figcaption>*Detecting an exoplanet system around two suns (Doyle et al., Science 2011).*</figcaption>\n",
    "</figure>\n",
    "    </center>\n",
    "    </li>\n",
    "   <li><b>variable stars</b>: different types of strongly variable stars are distinguished by the periodic changes of brightness.\n",
    "    <figure>\n",
    "  <img src=\"data/varstar.jpg\" width=60%>\n",
    "  <figcaption>*Periods of variable stars (Richards et al. 2011).*</figcaption>\n",
    "</figure>\n",
    "    </li>\n",
    "    <li><b>black hole masses and spins</b>: analysis of X-ray flux time series in black hole candidates can be used to infer BH mass and spin.\n",
    "        <figure>\n",
    "  <img src=\"data/qpo.jpg\" width=60%>\n",
    "  <figcaption>*Quasi-Periodic observations of black hole binaries (Remillard and McClintock 2006).*</figcaption>\n",
    "</figure>\n",
    "     </ul>\n",
    "   <li><b>Local distance scale from the Leavitt relation</b>: many variable star classes, not just RR Lyrae, exhibit a P-L relationship. These can be used to measure distances not just within our own Galaxy.\n",
    "       <figure>\n",
    "  <img src=\"data/pl.png\" width=60%>\n",
    "  <figcaption>*Density of Period-Magnitude of long-period variables in the LMC  (Boyer et al. 2015).*</figcaption>\n",
    "</figure>\n",
    "   </li>\n",
    "</ul>\n",
    "   \n",
    "  "
   ]
  },
  {
   "cell_type": "markdown",
   "metadata": {},
   "source": [
    "## Fourier Transform Review\n",
    "\n",
    "Say we have a continuous signal $y(t)$, flux as a function of time. The Fourier Transform (FT) is defined as:\n",
    "\n",
    "$$\n",
    "\\mathcal{F}\\{y\\} \\equiv  \\hat{y}(f)  \\equiv \\int_{-\\infty}^\\infty y(t) e^{-2\\pi i f t} dt\n",
    "$$\n",
    "\n",
    "with $i = \\sqrt{-1}$ in the exponent; this is just more compact way of writing:\n",
    "\n",
    "$$\n",
    "\\hat{y}(f)  \\equiv \\int_{-\\infty}^\\infty y(t) [\\cos(-2\\pi ft) + i \\sin(-2\\pi ft)] dt \n",
    "$$\n",
    "\n",
    "The inverse transform is:\n",
    "\n",
    "$$\n",
    "\\mathcal{F}^{-1}\\{\\hat{y}\\} =  \\int_{-\\infty}^\\infty \\hat{y}(f) e^{2\\pi i f t} df\n",
    "$$\n",
    "\n",
    "Since the inverse FT of an FT of a function is that original function, it is clear that the process of taking an FT does not lose information. Indeed we say that $\\mathcal{F}\\{y\\}$ lives in the frequency domain and $y(t)$ lives in the time-domain. \n",
    "\n",
    "The FT will, in general, have both real and imaginary components. For real-valued signals, if the signal is even [$y(t) = y(-t)$] then the FT will be real-valued. Likewise, if the signal is odd [$y(t) = -y(-t)$] then the FT will have only an imaginary component.\n",
    "\n",
    "The **power (density) spectrum** is the complex square of the FT:\n",
    "\n",
    "$$\\mathcal{P}(f) \\equiv |\\mathcal{F}\\{y\\}|^2$$\n"
   ]
  },
  {
   "cell_type": "markdown",
   "metadata": {},
   "source": [
    "### Some useful Things to know about the FT\n",
    "\n",
    "<center>\n",
    "  <figure>\n",
    "  <img src=\"data/fig03_Fourier_pairs.png\" width=60%>\n",
    "  <figcaption>*Continuous signals ($x(t)$, left) and their Fourier Transforms (right). From VanderPlas (see https://arxiv.org/abs/1703.09824; https://github.com/jakevdp/PracticalLombScargle/)*</figcaption>\n",
    "</figure>\n",
    "</center>\n",
    "\n",
    "- FT of a sine curve with frequency $f_0$ are two delta functions at $f=f_0$ and $f=f_1$.\n",
    "\n",
    "- FT of a Gaussian is a Gaussian\n",
    "\n",
    "- FT of a box function (zero everywhere except one in a certain range) is a sinc function [sinc$(x) = \\sin(\\pi x)/\\pi x$]\n",
    "\n",
    "- Rayleigh’s Theorem:\n",
    "\n",
    "The sum of the power in the frequency and the spectral domain are the same.\n",
    "$$\n",
    " \\int_{-\\infty}^\\infty  |\\hat{y}(f)|^2 df  =   \\int_{-\\infty}^\\infty  |y(t)|^2 dt\n",
    "$$ \n",
    "\n",
    "\n",
    "- Linearity:\n",
    "\n",
    "The FT of two signals $x$, $y$ is the sum of the two FTs:\n",
    "\n",
    "$$\n",
    "\\mathcal{F}\\{x + y\\} = \\mathcal{F}\\{x\\} +  \\mathcal{F}\\{y\\}\n",
    "$$\n",
    "\n",
    "- When we multiply in the time domain, we convolve (*) in the frequency domain\n",
    "\n",
    "$$\n",
    "[y * z](t)  \\equiv \\int_{-\\infty}^\\infty y(\\tau) z(t - \\tau) d\\tau\n",
    "$$\n",
    "\n",
    "<center>\n",
    "  <figure>\n",
    "  <img src=\"data/fig06_Rectangular_Window.png\" width=80%>\n",
    "  <figcaption>*Continuous signals ($x(t)$, left) and their Fourier Transforms (right). The initial function (top left) is \n",
    "      $y(t) = 1.2 \\sin(2\\pi t)+0.8 \\sin(4 \\pi t)+0.4 \\sin(6 \\pi t)+0.1\\sin(8 \\pi t)$.\n",
    "      From VanderPlas (see https://arxiv.org/abs/1703.09824; https://github.com/jakevdp/PracticalLombScargle/)*</figcaption>\n",
    "</figure>\n",
    "</center>\n",
    "\n",
    "\n",
    " \n"
   ]
  },
  {
   "cell_type": "markdown",
   "metadata": {},
   "source": [
    "## (Fast) Discrete Transforms\n",
    "\n",
    "IRL we do not observe continuous functions. Our observations of physical phenomena happen over a finite window in time, which introduces a smearing (sinc) function convolved with the frequency spectrum we are interested in (see figure above). Even more important, we only observe at a certain set of points in time; that is, we sample astronomical sources discretely.  In a contrived case, we may make $N$ observations speced by time $\\Delta t$ between observations. Thus, the discrete FT turns the integral to a sum:\n",
    "\n",
    "$$\n",
    "\\hat{y}(f) = \\sum_{n=0}^N y(n \\Delta t) e^{-2 \\pi i f n \\Delta t}\n",
    "$$\n",
    "\n",
    "where we now have approximated $y(t)$ by observing at times $t=0, \\Delta t, 2 \\Delta t ... N \\Delta t$.\n",
    "\n",
    "The Periodogram is an approximation to the spectral density:\n",
    "\n",
    "$$\n",
    "P(f) = \\frac{1}{N} \\left | \\sum_{n=0}^N y(n \\Delta t) e^{-2 \\pi i f n \\Delta t} \\right|^2\n",
    "$$\n"
   ]
  },
  {
   "cell_type": "code",
   "execution_count": null,
   "metadata": {},
   "outputs": [],
   "source": [
    "import numpy as np\n",
    "import matplotlib.pyplot as plt\n",
    "import seaborn as sns\n",
    "\n",
    "sns.set_context(\"poster\")\n",
    "sns.set_style(\"whitegrid\")\n",
    "%matplotlib inline"
   ]
  },
  {
   "cell_type": "markdown",
   "metadata": {},
   "source": [
    "Let's make a periodic source and see what the periodogram looks like:"
   ]
  },
  {
   "cell_type": "code",
   "execution_count": null,
   "metadata": {},
   "outputs": [],
   "source": [
    "P_0 = 4  # period \n",
    "\n",
    "def y(t, P=P_0):\n",
    "    \"\"\"\n",
    "    create a signal with period P, adding in some harmonics\n",
    "    \n",
    "    \"\"\"\n",
    "    omega = 2*np.pi/(P)\n",
    "    return 0.7*np.sin(omega*t) + 0.4*np.sin(2*omega*t) + 0.25*np.sin(4*omega*t)\n",
    "\n",
    "\n",
    "timestep = 0.01\n",
    "timestep_course = 0.2  # dont observe all the time...\n",
    "\n",
    "times = np.arange(0, 12,  timestep)\n",
    "times_course = np.arange(0, 12, timestep_course)\n",
    "\n",
    "\n",
    "f, ax = plt.subplots(figsize=(10, 7))\n",
    "\n",
    "ax.plot(times, y(times),  label=\"true function\")\n",
    "ax.scatter(times_course, y(times_course), c=\"red\", label=\"observation\")\n",
    "xlab=plt.xlabel(\"time\")\n",
    "ylab=plt.ylabel(\"flux difference from median\")\n",
    "leg=ax.legend(frameon=True)\n",
    "leg.get_frame().set_facecolor('#cccccc')"
   ]
  },
  {
   "cell_type": "code",
   "execution_count": null,
   "metadata": {},
   "outputs": [],
   "source": [
    "from scipy.fftpack import fftshift, fftfreq\n",
    "\n",
    "def classic_periodogram(t, mag, freq):\n",
    "    t, mag, freq = map(np.asarray, (t, mag, freq))\n",
    "    return abs(np.dot(mag, np.exp(-2j * np.pi * freq * t[:, None])) / np.sqrt(len(t))) ** 2\n",
    "\n",
    "n = times_course.size\n",
    "freq = fftshift(fftfreq(n, timestep_course))\n",
    "\n",
    "p_schuster = classic_periodogram(times_course, y(times_course), freq)"
   ]
  },
  {
   "cell_type": "code",
   "execution_count": null,
   "metadata": {},
   "outputs": [],
   "source": [
    "fig, ax = plt.subplots(1, figsize=(10, 5))\n",
    "ax.plot(freq, p_schuster, '-', color='gray', label='Classic Periodogram')\n",
    "ax.legend();\n",
    "ax.set(ylabel='Spectral Power')\n",
    "ax.set(xlabel='frequency')\n",
    "# ax.set_yscale('log')\n",
    "plt.xlim(0, 2)"
   ]
  },
  {
   "cell_type": "markdown",
   "metadata": {},
   "source": [
    "We can also use the Fast FT (FFT) methods in `scipy` (https://docs.scipy.org/doc/scipy/reference/tutorial/fftpack.html). The original formulation of the FFT is in Cooley, James W., and John W. Tukey, 1965, “An algorithm for the machine calculation of complex Fourier series,” Math. Comput. 19: 297-301.\n"
   ]
  },
  {
   "cell_type": "code",
   "execution_count": null,
   "metadata": {},
   "outputs": [],
   "source": [
    "from scipy.fftpack import fft, fftfreq, fftshift\n",
    "\n",
    "ft = fftshift(fft(y(times_course)))\n",
    "n = times_course.size\n",
    "freq = fftshift(fftfreq(n, timestep_course))\n",
    "\n",
    "plt.semilogy(freq, (np.imag(ft)**2 + np.real(ft)**2)/n, \"-o\", c=\"red\", label=\"DFT\")\n",
    "\n",
    "# overplot the frequencies where we injected power in y(t)\n",
    "plt.vlines(1/P_0, 0, 10, alpha=0.3, color=\"green\")\n",
    "plt.vlines(2/P_0, 0, 10, alpha=0.3, color=\"green\")\n",
    "plt.vlines(4/P_0, 0, 10, alpha=0.3, color=\"green\")\n",
    "\n",
    "plt.xlim(0, 2)\n",
    "#plt.ylim(1e-4, 8)\n",
    "plt.xlabel(\"Frequency [1/time unit]\")\n",
    "plt.ylabel(\"Power Density Spectrum\")\n",
    "plt.title(\"Periodogram\")"
   ]
  },
  {
   "cell_type": "markdown",
   "metadata": {},
   "source": [
    "Let's take a look at what a non-periodic signal might look like.\n",
    "\n",
    "Simulate a FT with $1/f^\\alpha$ noise. When $\\alpha=0$ then we have white noise. $\\alpha=1$ is \"pink\" noise. See Timmer, J. and Koenig, M.: On generating power law noise. Astron. Astrophys. 300, 707-710 (1995)"
   ]
  },
  {
   "cell_type": "code",
   "execution_count": null,
   "metadata": {},
   "outputs": [],
   "source": [
    "from scipy.fftpack import ifft, ifftshift\n",
    "\n",
    "f = plt.figure(figsize=(12, 7))\n",
    "rnd = np.random.RandomState(42)\n",
    "nfreq = 256\n",
    "\n",
    "freqs = fftfreq(nfreq)\n",
    "s_scale = np.abs(np.concatenate([freqs[freqs<0], [freqs[-1]]]))\n",
    "\n",
    "alphas = [ 0, 1, 2] \n",
    "spects = []\n",
    "ys = []\n",
    "\n",
    "for α in alphas:\n",
    "    the_scale = s_scale**(-α/2)\n",
    "    spectrum_r = the_scale*(rnd.normal(size=len(the_scale)))\n",
    "    spectrum_i = the_scale*(rnd.normal(size=len(the_scale)))\n",
    "    if not (nfreq % 2): spectrum_i[0] = spectrum_i[0].real\n",
    "    spectrum = spectrum_r + 1J * spectrum_i\n",
    "    spectrum = np.concatenate([spectrum[1-(nfreq % 2):][::-1], spectrum[:-1].conj()])\n",
    "    spects.append(spectrum)\n",
    "    \n",
    "    #get the light curve with an inv FFT\n",
    "    y = ifft(spectrum).real\n",
    "    ys.append(y/np.std(y))\n",
    "    plt.plot(ys[-1], label=r\"$\\alpha$=%.1f\" % α)\n",
    "    \n",
    "plt.ylim(-4,5)\n",
    "plt.xlabel(\"Time\")\n",
    "plt.ylabel(\"flux\")\n",
    "plt.legend()"
   ]
  },
  {
   "cell_type": "code",
   "execution_count": null,
   "metadata": {},
   "outputs": [],
   "source": [
    "for lc in range(len(alphas)):\n",
    "    ft = fftshift(fft(ys[lc]))\n",
    "    n = ys[lc].size\n",
    "    freq = fftshift(fftfreq(n, 1))\n",
    "    plt.semilogy(freq, (np.imag(ft)**2 + np.real(ft)**2)/n, \"-\", label= r\"$\\alpha$=%.f\" % lc)\n",
    "\n",
    "plt.xlim(0, 0.5)\n",
    "plt.ylim(1e-5, 100)\n",
    "plt.xlabel(\"Frequency [1/time unit]\")\n",
    "plt.ylabel(\"Power Density Spectrum\")\n",
    "plt.title(\"Periodogram \")"
   ]
  },
  {
   "cell_type": "markdown",
   "metadata": {},
   "source": [
    "## Lomb-Scargle Periodograms\n",
    "\n",
    "Unsurprisingly, because we do not observe sources on the sky at regular intervals, we cannot use the discrete Fourier transform (nor the FFT). Moreover, when we do observe we observe in a finite signal-to-noise regime. That is, there are uncertainties on the quantities that we measure. To handle, this Lomb (1976) and Scargle (1983, 1989) worked on a formalism that can handle irregular sampling of noisy data.\n",
    "\n",
    "The key insight is that we can try to model our observations $y(t)$ as the sum of component sine curves with:\n",
    "$$\n",
    "y_{\\rm model}(t; f) = y_0(f)+ A_f \\sin(2 \\pi f (t−\\phi_f))\n",
    "$$\n",
    "\n",
    "here, the DC offset $y_0(f)$, the normalization $A_f$, and $\\phi_f$ are all fit to minimize the $\\chi^2$:\n",
    "\n",
    "$$\n",
    "\\chi^2(f) = \\sum \\left(\\frac{y(t) - y_{\\rm model}(t; f)}{\\sigma(t)}\\right)^2\n",
    "$$\n",
    "The uncertainties in the measurements are $\\sigma(t)$."
   ]
  },
  {
   "cell_type": "code",
   "execution_count": null,
   "metadata": {},
   "outputs": [],
   "source": [
    "from astropy.timeseries import LombScargle"
   ]
  },
  {
   "cell_type": "code",
   "execution_count": null,
   "metadata": {},
   "outputs": [],
   "source": [
    "LombScargle?"
   ]
  },
  {
   "cell_type": "markdown",
   "metadata": {},
   "source": [
    "When we perform an L-S, the resultant power spectrum unitless. A L-S of random noise follows a $\\chi^2$ distribution for 2 degrees of freedom."
   ]
  },
  {
   "cell_type": "code",
   "execution_count": null,
   "metadata": {},
   "outputs": [],
   "source": [
    "rng = np.random.RandomState(42)\n",
    "n = 100\n",
    "t = np.array(sorted(100 * rng.rand(n)))\n",
    "y = rng.randn(n)\n",
    "plt.plot(t, y, \"o-\")\n",
    "plt.xlabel(\"time\")\n",
    "plt.ylabel(\"flux\")"
   ]
  },
  {
   "cell_type": "code",
   "execution_count": null,
   "metadata": {},
   "outputs": [],
   "source": [
    "freq, p_ls = LombScargle(t, y, fit_mean=False, center_data=True).autopower(minimum_frequency=0,\n",
    "                                         maximum_frequency=3,\n",
    "                                         normalization='psd',\n",
    "                                         samples_per_peak=5)\n",
    "fig, ax = plt.subplots(1, figsize=(10, 5))\n",
    "ax.plot(freq, p_ls, '-k', label='Lomb-Scargle Periodogram')\n",
    "ax.legend();\n",
    "ax.set(ylabel='Spectral Power')\n",
    "ax.set(xlabel='frequency')"
   ]
  },
  {
   "cell_type": "markdown",
   "metadata": {},
   "source": [
    "As seen above, with many effective trials, the L-S (and any periodogram) will pick up spurious signals. We could\n",
    "resample the data to help determine what level of power would a false alarm with a given probability."
   ]
  },
  {
   "cell_type": "code",
   "execution_count": null,
   "metadata": {},
   "outputs": [],
   "source": [
    "# following from Vanderplas https://github.com/jakevdp/PracticalLombScargle/blob/master/figures/Uncertainty.ipynb\n",
    "def LombScargle_bootstrap(t, y, freq, n_bootstraps=100,\n",
    "                          aggregate=max, random_seed=None,\n",
    "                          normalization='standard'):\n",
    "    rng = np.random.RandomState(random_seed)\n",
    "    \n",
    "    def bootstrapped_power():\n",
    "        resample = rng.randint(0, len(y), len(y))  # sample with replacement\n",
    "        ls_boot = LombScargle(t, y[resample])\n",
    "        return aggregate(ls_boot.power(freq, normalization=normalization))\n",
    "    \n",
    "    return np.array([bootstrapped_power() for i in range(n_bootstraps)])\n",
    "\n",
    "ls = LombScargle(t, y)\n",
    "freq, power = ls.autopower(maximum_frequency=4, samples_per_peak=10)\n",
    "\n",
    "p_boot = LombScargle_bootstrap(t, y, freq)\n",
    "\n",
    "fig, ax = plt.subplots(1, 2, figsize=(10, 3))\n",
    "ax[0].plot(t, y)\n",
    "\n",
    "ax[1].plot(freq, power, '-k')\n",
    "for cutoff in np.percentile(p_boot, [85, 95, 99]):\n",
    "    ax[1].axhline(cutoff, color='black', linestyle='dotted')"
   ]
  },
  {
   "cell_type": "markdown",
   "metadata": {},
   "source": [
    "We'd conclude from the above that there are no significant peaks. Now, let's look at the case where we actually have a signal."
   ]
  },
  {
   "cell_type": "code",
   "execution_count": null,
   "metadata": {},
   "outputs": [],
   "source": [
    "rng = np.random.RandomState(42)\n",
    "n = 100\n",
    "t = np.array(sorted(100 * rng.rand(n)))\n",
    "y = 1 + np.sin(t/3) + 0.3 * rng.randn(n)\n",
    "plt.plot(t, y, \"o-\")\n",
    "plt.xlabel(\"time\")\n",
    "plt.ylabel(\"flux\")"
   ]
  },
  {
   "cell_type": "code",
   "execution_count": null,
   "metadata": {},
   "outputs": [],
   "source": [
    "freq, p_ls = LombScargle(t, y, fit_mean=False, center_data=True).autopower(minimum_frequency=0,\n",
    "                                         maximum_frequency=0.5,\n",
    "                                         normalization='psd',\n",
    "                                         samples_per_peak=20)\n",
    "p_schuster = classic_periodogram(t, y, freq)"
   ]
  },
  {
   "cell_type": "code",
   "execution_count": null,
   "metadata": {},
   "outputs": [],
   "source": [
    "fig, ax = plt.subplots(1, figsize=(10, 5))\n",
    "ax.plot(freq, p_schuster, '-', color='gray', label='Classic Periodogram')\n",
    "ax.plot(freq, p_ls, '-k', label='Lomb-Scargle Periodogram')\n",
    "ax.legend();\n",
    "ax.set(ylabel='Spectral Power')\n",
    "ax.set(xlabel='frequency')"
   ]
  },
  {
   "cell_type": "markdown",
   "metadata": {},
   "source": [
    "You'll notice that the classic periodogram approach is descrepant at low frequencies ... why is that? Take a close look at the function `y`."
   ]
  },
  {
   "cell_type": "code",
   "execution_count": null,
   "metadata": {},
   "outputs": [],
   "source": [
    "ls = LombScargle(t, y)\n",
    "freq, power = ls.autopower(maximum_frequency=1, samples_per_peak=10)\n",
    "\n",
    "p_boot = LombScargle_bootstrap(t, y, freq)\n",
    "\n",
    "fig, ax = plt.subplots(1, 2, figsize=(10, 3))\n",
    "ax[0].plot(t, y)\n",
    "\n",
    "ax[1].plot(freq, power, '-k')\n",
    "for cutoff in np.percentile(p_boot, [85, 95, 99]):\n",
    "    ax[1].axhline(cutoff, color='black', linestyle='dotted')"
   ]
  },
  {
   "cell_type": "markdown",
   "metadata": {},
   "source": [
    "From the above, it's pretty clear that we have found a significant peak (a peak of this height occurs much less than 1% by random chance)."
   ]
  },
  {
   "cell_type": "markdown",
   "metadata": {
    "collapsed": true
   },
   "source": [
    "Back to $\\alpha$ Orionis:\n",
    "<img src=\"https://spaceweather.com/images2020/08feb20/fourier_strip.png\"> "
   ]
  },
  {
   "cell_type": "code",
   "execution_count": null,
   "metadata": {},
   "outputs": [],
   "source": []
  }
 ],
 "metadata": {
  "kernelspec": {
   "display_name": "Python 3",
   "language": "python",
   "name": "python3"
  },
  "language_info": {
   "codemirror_mode": {
    "name": "ipython",
    "version": 3
   },
   "file_extension": ".py",
   "mimetype": "text/x-python",
   "name": "python",
   "nbconvert_exporter": "python",
   "pygments_lexer": "ipython3",
   "version": "3.6.9"
  }
 },
 "nbformat": 4,
 "nbformat_minor": 2
}
