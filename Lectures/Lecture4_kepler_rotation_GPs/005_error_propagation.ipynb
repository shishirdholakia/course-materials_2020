{
 "cells": [
  {
   "cell_type": "markdown",
   "metadata": {},
   "source": [
    "Suppose we have some quantity $y$, that is defined as a function of other quantities $x_i$:\n",
    "$$y=f\\left(x_{1},x_{2},x_{3},\\cdots\\right)$$\n",
    "\n",
    "Each $x_i$ has an associated uncertainty, $\\sigma_{x_{i}}$. What's the uncertainty on $y$? It's\n",
    "\n",
    "$$ \\sigma_{y}^{2}=\\sum_{i}\\left(\\frac{\\partial f}{\\partial x_{i}}\\right)^{2}\\sigma_{x_{i}}^{2} $$\n",
    "\n",
    "(where does this come from? what are the assumption?)\n",
    "\n",
    "Let's take a concrete example: \n",
    "\n",
    "$$ {\\rm M}_{G}=G+5\\log\\left(\\frac{\\varpi}{{\\rm mas}}\\right)-10 $$"
   ]
  },
  {
   "cell_type": "code",
   "execution_count": 45,
   "metadata": {},
   "outputs": [
    {
     "name": "stdout",
     "output_type": "stream",
     "text": [
      "G_err: 0.010857362047581294, Mg_err: 0.4344301777296855\n"
     ]
    }
   ],
   "source": [
    "import numpy as np\n",
    "import matplotlib.pyplot as plt \n",
    "%matplotlib inline\n",
    "\n",
    "G = 17\n",
    "parallax = 0.1\n",
    "flux_over_error = 100\n",
    "parallax_over_error = 5\n",
    "\n",
    "Mg = G + 5*np.log10(parallax) - 10\n",
    "\n",
    "G_err = 2.5/np.log(10)/flux_over_error\n",
    "Mg_err = np.sqrt(G_err**2 + (5/(parallax_over_error *np.log(10)))**2)\n",
    "print(f'G_err: {G_err}, Mg_err: {Mg_err}')"
   ]
  },
  {
   "cell_type": "code",
   "execution_count": 46,
   "metadata": {},
   "outputs": [],
   "source": [
    "# let's test this\n",
    "\n",
    "N = 10000\n",
    "\n",
    "# generate array of possible \"true\" parallaxes\n",
    "sigma_parallax = parallax/parallax_over_error\n",
    "parallaxes = parallax + sigma_parallax*np.random.randn(N)\n",
    "\n",
    "# generate array of possible \"true\" fluxes and magnitudes\n",
    "F = 10**(-G/2.5)\n",
    "sigma_F = F/flux_over_error\n",
    "Fs = F + sigma_F*np.random.randn(N)\n",
    "Gs = -2.5*np.log10(Fs)\n",
    "\n",
    "Mgs = Gs + 5*np.log10(parallaxes) - 10"
   ]
  },
  {
   "cell_type": "code",
   "execution_count": 51,
   "metadata": {},
   "outputs": [
    {
     "data": {
      "text/plain": [
       "Text(0, 0.5, '$P(\\\\rm M_{G})$')"
      ]
     },
     "execution_count": 51,
     "metadata": {},
     "output_type": "execute_result"
    },
    {
     "data": {
      "image/png": "[encoded data removed]",
      "text/plain": [
       "<Figure size 432x288 with 1 Axes>"
      ]
     },
     "metadata": {
      "needs_background": "light"
     },
     "output_type": "display_data"
    }
   ],
   "source": [
    "plt.hist(Mgs, bins = np.linspace(0, 4, 30), histtype = 'step', density=True, lw=1)\n",
    "\n",
    "x = np.linspace(0,  4, 100)\n",
    "y = 1/np.sqrt(2*np.pi*Mg_err**2)*np.exp(-(x - Mg)**2/(2*Mg_err**2))\n",
    "plt.plot(x, y, 'k')\n",
    "plt.xlabel(r'$\\rm M_{G}$')\n",
    "plt.ylabel(r'$P(\\rm M_{G})$')"
   ]
  },
  {
   "cell_type": "code",
   "execution_count": null,
   "metadata": {},
   "outputs": [],
   "source": []
  }
 ],
 "metadata": {
  "kernelspec": {
   "display_name": "Python 3",
   "language": "python",
   "name": "python3"
  },
  "language_info": {
   "codemirror_mode": {
    "name": "ipython",
    "version": 3
   },
   "file_extension": ".py",
   "mimetype": "text/x-python",
   "name": "python",
   "nbconvert_exporter": "python",
   "pygments_lexer": "ipython3",
   "version": "3.6.8"
  }
 },
 "nbformat": 4,
 "nbformat_minor": 2
}
